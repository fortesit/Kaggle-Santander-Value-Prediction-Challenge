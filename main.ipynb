{
 "cells": [
  {
   "cell_type": "code",
   "execution_count": null,
   "metadata": {},
   "outputs": [],
   "source": [
    "import lightgbm as lgb\n",
    "from sklearn import *\n",
    "import pandas as pd\n",
    "import numpy as np\n",
    "import matplotlib.pyplot as plt\n",
    "import seaborn as sns\n",
    "\n",
    "color = sns.color_palette()\n",
    "%matplotlib inline\n",
    "\n",
    "#from top scoring kernels and blends - for testing only\n",
    "sub1 = pd.read_csv('input/best-ensemble-score-made-available-0-68/SHAZ13_ENS_LEAKS.csv')\n",
    "sub2 = pd.read_csv('input/best-ensemble-score-made-available-0-67/SHAZ13_ENS_LEAKS.csv')\n",
    "sub3 = pd.read_csv('input/feature-scoring-vs-zeros/leaky_submission.csv')\n",
    "\n",
    "#standard\n",
    "train = pd.read_csv('input/train.csv')\n",
    "test = pd.read_csv('input/test.csv')\n",
    "print(train.shape, test.shape)"
   ]
  },
  {
   "cell_type": "code",
   "execution_count": null,
   "metadata": {},
   "outputs": [],
   "source": [
    "from PIL import Image, ImageDraw, ImageColor\n",
    "\n",
    "col = [c for c in train.columns if c not in ['ID', 'target']]\n",
    "xtrain = train[col].copy().values\n",
    "target = train['target'].values\n",
    "\n",
    "im = Image.new('RGBA', xtrain.shape)\n",
    "wh = ImageColor.getrgb('white')\n",
    "re = ImageColor.getrgb('red')\n",
    "gr = ImageColor.getrgb('green')\n",
    "ga = ImageColor.getrgb('gray')\n",
    "\n",
    "for x in range(xtrain.shape[0]):\n",
    "    for y in range(xtrain.shape[1]):\n",
    "        if xtrain[x][y] == 0:\n",
    "            im.putpixel((x,y), wh)\n",
    "        elif xtrain[x][y] == target[x]:\n",
    "            im.putpixel((x,y), re)\n",
    "        elif (np.abs(xtrain[x][y] - target[x]) / target[x]) < 0.05:\n",
    "            im.putpixel((x,y), gr)\n",
    "        else:\n",
    "            im.putpixel((x,y), ga)\n",
    "im.save('leak.bmp')"
   ]
  },
  {
   "cell_type": "code",
   "execution_count": null,
   "metadata": {},
   "outputs": [],
   "source": [
    "leak_col = []\n",
    "for c in col:\n",
    "    leak1 = np.sum((train[c]==train['target']).astype(int))\n",
    "    leak2 = np.sum((((train[c] - train['target']) / train['target']) < 0.05).astype(int))\n",
    "    if leak1 > 30 and leak2 > 3500:\n",
    "        leak_col.append(c)\n",
    "print(len(leak_col))\n",
    "print(leak_col)"
   ]
  },
  {
   "cell_type": "code",
   "execution_count": null,
   "metadata": {},
   "outputs": [],
   "source": [
    "from scipy.stats import spearmanr\n",
    "import warnings\n",
    "warnings.filterwarnings(\"ignore\")\n",
    "\n",
    "labels = []\n",
    "values = []\n",
    "for col in leak_col:\n",
    "    labels.append(col)\n",
    "    values.append(spearmanr(train[col].values, train[\"target\"].values)[0])\n",
    "    \n",
    "corr_df = pd.DataFrame({'col_labels':labels, 'corr_values':values})\n",
    "corr_df = corr_df.sort_values(by='corr_values')\n",
    "\n",
    "ind = np.arange(corr_df.shape[0])\n",
    "width = 0.9\n",
    "fig, ax = plt.subplots(figsize=(12,30))\n",
    "rects = ax.barh(ind, np.array(corr_df.corr_values.values), color='b')\n",
    "ax.set_yticks(ind)\n",
    "ax.set_yticklabels(corr_df.col_labels.values, rotation='horizontal')\n",
    "ax.set_xlabel(\"Correlation coefficient\")\n",
    "ax.set_title(\"Correlation coefficient of the variables\")\n",
    "plt.show()"
   ]
  }
 ],
 "metadata": {
  "kernelspec": {
   "display_name": "Python 3",
   "language": "python",
   "name": "python3"
  },
  "language_info": {
   "codemirror_mode": {
    "name": "ipython",
    "version": 3
   },
   "file_extension": ".py",
   "mimetype": "text/x-python",
   "name": "python",
   "nbconvert_exporter": "python",
   "pygments_lexer": "ipython3",
   "version": "3.6.4"
  }
 },
 "nbformat": 4,
 "nbformat_minor": 2
}
