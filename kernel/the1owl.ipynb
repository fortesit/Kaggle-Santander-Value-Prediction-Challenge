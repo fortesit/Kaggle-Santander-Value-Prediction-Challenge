{
 "cells": [
  {
   "cell_type": "code",
   "execution_count": 2,
   "metadata": {
    "_cell_guid": "b1076dfc-b9ad-4769-8c92-a6c4dae69d19",
    "_uuid": "8f2839f25d086af736a60e9eeb907d3b93b6e0e5"
   },
   "outputs": [
    {
     "name": "stdout",
     "output_type": "stream",
     "text": [
      "(4459, 4993) (49342, 4992)\n"
     ]
    }
   ],
   "source": [
    "import lightgbm as lgb\n",
    "from sklearn import *\n",
    "import pandas as pd\n",
    "import numpy as np\n",
    "\n",
    "#from top scoring kernels and blends - for testing only\n",
    "sub1 = pd.read_csv('../input/best-ensemble-score-made-available-0-68/SHAZ13_ENS_LEAKS.csv')\n",
    "sub2 = pd.read_csv('../input/best-ensemble-score-made-available-0-67/SHAZ13_ENS_LEAKS.csv')\n",
    "sub3 = pd.read_csv('../input/feature-scoring-vs-zeros/leaky_submission.csv')\n",
    "\n",
    "#standard\n",
    "train = pd.read_csv('../input/train.csv')\n",
    "test = pd.read_csv('../input/test.csv')\n",
    "print(train.shape, test.shape)"
   ]
  },
  {
   "cell_type": "code",
   "execution_count": 3,
   "metadata": {
    "_uuid": "89027bce3eca0597953f8e2f584cc598dba71c8d"
   },
   "outputs": [],
   "source": [
    "from PIL import Image, ImageDraw, ImageColor\n",
    "\n",
    "col = [c for c in train.columns if c not in ['ID', 'target']]\n",
    "xtrain = train[col].copy().values\n",
    "target = train['target'].values\n",
    "\n",
    "im = Image.new('RGBA', xtrain.shape)\n",
    "wh = ImageColor.getrgb('white')\n",
    "re = ImageColor.getrgb('red')\n",
    "gr = ImageColor.getrgb('green')\n",
    "ga = ImageColor.getrgb('gray')\n",
    "\n",
    "for x in range(xtrain.shape[0]):\n",
    "    for y in range(xtrain.shape[1]):\n",
    "        if xtrain[x][y] == 0:\n",
    "            im.putpixel((x,y), wh)\n",
    "        elif xtrain[x][y] == target[x]:\n",
    "            im.putpixel((x,y), re)\n",
    "        elif (np.abs(xtrain[x][y] - target[x]) / target[x]) < 0.05:\n",
    "            im.putpixel((x,y), gr)\n",
    "        else:\n",
    "            im.putpixel((x,y), ga)\n",
    "im.save('leak.bmp')"
   ]
  },
  {
   "cell_type": "code",
   "execution_count": 4,
   "metadata": {
    "_uuid": "9917a4fcac44c160b3e8aca1412ca0eb61e21e23"
   },
   "outputs": [
    {
     "name": "stdout",
     "output_type": "stream",
     "text": [
      "51\n"
     ]
    }
   ],
   "source": [
    "leak_col = []\n",
    "for c in col:\n",
    "    leak1 = np.sum((train[c]==train['target']).astype(int))\n",
    "    leak2 = np.sum((((train[c] - train['target']) / train['target']) < 0.05).astype(int))\n",
    "    if leak1 > 30 and leak2 > 3500:\n",
    "        leak_col.append(c)\n",
    "print(len(leak_col))"
   ]
  },
  {
   "cell_type": "code",
   "execution_count": 5,
   "metadata": {
    "_uuid": "eb4460196845e92d2a1acc06f40ec44a46cf2b3e"
   },
   "outputs": [],
   "source": [
    "col = list(leak_col)\n",
    "train = train[col +  ['ID', 'target']]\n",
    "test = test[col +  ['ID']]"
   ]
  },
  {
   "cell_type": "code",
   "execution_count": 6,
   "metadata": {
    "_uuid": "943e516f1418dae566dd904fc5b0cecf17fa95a5"
   },
   "outputs": [],
   "source": [
    "#https://www.kaggle.com/johnfarrell/baseline-with-lag-select-fake-rows-dropped\n",
    "train[\"nz_mean\"] = train[col].apply(lambda x: x[x!=0].mean(), axis=1)\n",
    "train[\"nz_max\"] = train[col].apply(lambda x: x[x!=0].max(), axis=1)\n",
    "train[\"nz_min\"] = train[col].apply(lambda x: x[x!=0].min(), axis=1)\n",
    "train[\"ez\"] = train[col].apply(lambda x: len(x[x==0]), axis=1)\n",
    "train[\"mean\"] = train[col].apply(lambda x: x.mean(), axis=1)\n",
    "train[\"max\"] = train[col].apply(lambda x: x.max(), axis=1)\n",
    "train[\"min\"] = train[col].apply(lambda x: x.min(), axis=1)\n",
    "\n",
    "test[\"nz_mean\"] = test[col].apply(lambda x: x[x!=0].mean(), axis=1)\n",
    "test[\"nz_max\"] = test[col].apply(lambda x: x[x!=0].max(), axis=1)\n",
    "test[\"nz_min\"] = test[col].apply(lambda x: x[x!=0].min(), axis=1)\n",
    "test[\"ez\"] = test[col].apply(lambda x: len(x[x==0]), axis=1)\n",
    "test[\"mean\"] = test[col].apply(lambda x: x.mean(), axis=1)\n",
    "test[\"max\"] = test[col].apply(lambda x: x.max(), axis=1)\n",
    "test[\"min\"] = test[col].apply(lambda x: x.min(), axis=1)\n",
    "col += ['nz_mean', 'nz_max', 'nz_min', 'ez', 'mean', 'max', 'min']"
   ]
  },
  {
   "cell_type": "code",
   "execution_count": 7,
   "metadata": {
    "_uuid": "2d57b5afac7dc6f63f38bd873a451d7562eae4cb"
   },
   "outputs": [],
   "source": [
    "for i in range(2, 100):\n",
    "    train['index'+str(i)] = ((train.index + 2) % i == 0).astype(int)\n",
    "    test['index'+str(i)] = ((test.index + 2) % i == 0).astype(int)\n",
    "    col.append('index'+str(i))"
   ]
  },
  {
   "cell_type": "code",
   "execution_count": 8,
   "metadata": {
    "_uuid": "8ef924e6787a623e221e2280a58ac382f1c67d96"
   },
   "outputs": [],
   "source": [
    "test = pd.merge(test, sub3, how='left', on='ID',)"
   ]
  },
  {
   "cell_type": "code",
   "execution_count": 9,
   "metadata": {
    "_uuid": "a966e82281d5efd79b1d21b4a2d489a00460e23a"
   },
   "outputs": [],
   "source": [
    "from scipy.sparse import csr_matrix, vstack\n",
    "train = train.replace(0, np.nan)\n",
    "test = test.replace(0, np.nan)\n",
    "train = pd.concat((train, test), axis=0, ignore_index=True)"
   ]
  },
  {
   "cell_type": "code",
   "execution_count": 21,
   "metadata": {
    "_uuid": "425e5abf5a10185178c677958687f3bf9f37d579"
   },
   "outputs": [
    {
     "name": "stdout",
     "output_type": "stream",
     "text": [
      "Training until validation scores don't improve for 100 rounds.\n",
      "[200]\tvalid_0's rmse: 0.856515\n",
      "Early stopping, best iteration is:\n",
      "[184]\tvalid_0's rmse: 0.856185\n",
      "Training until validation scores don't improve for 100 rounds.\n",
      "[200]\tvalid_0's rmse: 0.836538\n",
      "Early stopping, best iteration is:\n",
      "[133]\tvalid_0's rmse: 0.836144\n",
      "Training until validation scores don't improve for 100 rounds.\n",
      "[200]\tvalid_0's rmse: 0.838962\n",
      "Early stopping, best iteration is:\n",
      "[156]\tvalid_0's rmse: 0.838771\n",
      "Training until validation scores don't improve for 100 rounds.\n",
      "[200]\tvalid_0's rmse: 0.833756\n",
      "Early stopping, best iteration is:\n",
      "[184]\tvalid_0's rmse: 0.833282\n",
      "Training until validation scores don't improve for 100 rounds.\n",
      "[200]\tvalid_0's rmse: 0.840935\n",
      "Early stopping, best iteration is:\n",
      "[104]\tvalid_0's rmse: 0.840327\n",
      "Training until validation scores don't improve for 100 rounds.\n",
      "[200]\tvalid_0's rmse: 0.837164\n",
      "Early stopping, best iteration is:\n",
      "[189]\tvalid_0's rmse: 0.836777\n",
      "Training until validation scores don't improve for 100 rounds.\n",
      "[200]\tvalid_0's rmse: 0.829463\n",
      "Early stopping, best iteration is:\n",
      "[195]\tvalid_0's rmse: 0.829397\n"
     ]
    }
   ],
   "source": [
    "test['target'] = 0.0\n",
    "folds = 5\n",
    "for fold in range(folds):\n",
    "    x1, x2, y1, y2 = model_selection.train_test_split(train[col], np.log1p(train.target.values), test_size=0.20, random_state=fold)\n",
    "    params = {'learning_rate': 0.02, 'max_depth': 8, 'boosting': 'gbdt', 'objective': 'regression', 'metric': 'rmse', 'is_training_metric': True, 'feature_fraction': 0.9, 'bagging_fraction': 0.8, 'bagging_freq': 5, 'seed':fold}\n",
    "    model = lgb.train(params, lgb.Dataset(x1, label=y1), 3000, lgb.Dataset(x2, label=y2), verbose_eval=200, early_stopping_rounds=100)\n",
    "    test['target'] += np.expm1(model.predict(test[col], num_iteration=model.best_iteration))\n",
    "test['target'] /= folds\n",
    "test[['ID', 'target']].to_csv('submission.csv', index=False)"
   ]
  },
  {
   "cell_type": "code",
   "execution_count": 22,
   "metadata": {
    "_kg_hide-input": true,
    "_kg_hide-output": true,
    "_uuid": "03f77791a751bc71183507f96c0dd55e752ae11b"
   },
   "outputs": [],
   "source": [
    "b1 = sub1.rename(columns={'target':'dp1'})\n",
    "b2 = pd.read_csv('submission.csv').rename(columns={'target':'dp2'})\n",
    "b1 = pd.merge(b1, b2, how='left', on='ID')\n",
    "b1['target'] = (b1['dp1'] * 0.8) + (b1['dp2'] * 0.2)\n",
    "b1[['ID','target']].to_csv('blend01.csv', index=False)"
   ]
  },
  {
   "cell_type": "code",
   "execution_count": 23,
   "metadata": {
    "_kg_hide-input": true,
    "_kg_hide-output": true,
    "_uuid": "82a528edc72ccd283a277b97c5707190a98e70f8"
   },
   "outputs": [],
   "source": [
    "b1 = sub2.rename(columns={'target':'dp1'})\n",
    "b2 = pd.read_csv('blend01.csv').rename(columns={'target':'dp2'})\n",
    "b1 = pd.merge(b1, b2, how='left', on='ID')\n",
    "b1['target'] = (b1['dp1'] * 0.8) + (b1['dp2'] * 0.2)\n",
    "b1[['ID','target']].to_csv('blend02.csv', index=False)"
   ]
  },
  {
   "cell_type": "code",
   "execution_count": 24,
   "metadata": {
    "_kg_hide-input": true,
    "_kg_hide-output": true,
    "_uuid": "b59476692efa42026c311e2e885feca96227398e"
   },
   "outputs": [],
   "source": [
    "b1 = sub2.rename(columns={'target':'dp1'})\n",
    "b2 = pd.read_csv('blend02.csv').rename(columns={'target':'dp2'})\n",
    "b1 = pd.merge(b1, b2, how='left', on='ID')\n",
    "b1['target'] = (b1['dp1'] * 0.5) + (b1['dp2'] * 0.5)\n",
    "b1[['ID','target']].to_csv('blend03.csv', index=False)"
   ]
  },
  {
   "cell_type": "code",
   "execution_count": 25,
   "metadata": {
    "_kg_hide-input": true,
    "_kg_hide-output": true,
    "_uuid": "d7072101e3c845884c54753f7061bad03e17816a"
   },
   "outputs": [],
   "source": [
    "b1 = sub3.rename(columns={'target':'dp1'})\n",
    "b2 = pd.read_csv('blend03.csv').rename(columns={'target':'dp2'})\n",
    "b1 = pd.merge(b1, b2, how='left', on='ID')\n",
    "b1['target'] = (b1['dp1'] * 0.6) + (b1['dp2'] * 0.4)\n",
    "b1[['ID','target']].to_csv('blend04.csv', index=False)"
   ]
  },
  {
   "cell_type": "code",
   "execution_count": null,
   "metadata": {
    "_kg_hide-input": true,
    "_kg_hide-output": true,
    "_uuid": "0f1731916d8d3afc638d6e3c103757e381f6a6bc",
    "collapsed": true
   },
   "outputs": [],
   "source": [
    "!rm submission.csv\n",
    "!rm blend01.csv\n",
    "!rm blend02.csv\n",
    "!rm blend03.csv"
   ]
  }
 ],
 "metadata": {
  "kernelspec": {
   "display_name": "Python 3",
   "language": "python",
   "name": "python3"
  },
  "language_info": {
   "codemirror_mode": {
    "name": "ipython",
    "version": 3
   },
   "file_extension": ".py",
   "mimetype": "text/x-python",
   "name": "python",
   "nbconvert_exporter": "python",
   "pygments_lexer": "ipython3",
   "version": "3.6.4"
  }
 },
 "nbformat": 4,
 "nbformat_minor": 1
}
